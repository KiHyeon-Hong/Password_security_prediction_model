{
 "cells": [
  {
   "cell_type": "code",
   "execution_count": 1,
   "metadata": {},
   "outputs": [],
   "source": [
    "import pandas as pd\n",
    "import matplotlib as mpl\n",
    "import matplotlib.pylab as plt\n",
    "import seaborn as sns\n",
    "import numpy as np\n",
    "import statsmodels.api as sm\n",
    "from scipy import stats\n",
    "\n",
    "from matplotlib import pyplot as plt"
   ]
  },
  {
   "cell_type": "code",
   "execution_count": 2,
   "metadata": {},
   "outputs": [],
   "source": [
    "file_path = 'C:\\PasswordData/paper/updateValidationResult.csv'\n",
    "validation = pd.read_csv(file_path, engine='python')"
   ]
  },
  {
   "cell_type": "code",
   "execution_count": 3,
   "metadata": {},
   "outputs": [],
   "source": [
    "file_path = 'C:\\PasswordData/paper/updatePredictResult.csv'\n",
    "predict = pd.read_csv(file_path, engine='python')"
   ]
  },
  {
   "cell_type": "code",
   "execution_count": 4,
   "metadata": {},
   "outputs": [],
   "source": [
    "file_path = 'C:\\PasswordData/paper/randomUpdatePasswordResult.csv'\n",
    "randomUpdate = pd.read_csv(file_path, engine='python')"
   ]
  },
  {
   "cell_type": "code",
   "execution_count": 5,
   "metadata": {},
   "outputs": [],
   "source": [
    "file_path = 'C:\\PasswordData/paper/feedbackUpdatePasswordResult.csv'\n",
    "feedbackUpdate = pd.read_csv(file_path, engine='python')"
   ]
  },
  {
   "cell_type": "code",
   "execution_count": null,
   "metadata": {},
   "outputs": [],
   "source": []
  },
  {
   "cell_type": "code",
   "execution_count": 6,
   "metadata": {},
   "outputs": [
    {
     "data": {
      "text/html": [
       "<div>\n",
       "<style scoped>\n",
       "    .dataframe tbody tr th:only-of-type {\n",
       "        vertical-align: middle;\n",
       "    }\n",
       "\n",
       "    .dataframe tbody tr th {\n",
       "        vertical-align: top;\n",
       "    }\n",
       "\n",
       "    .dataframe thead th {\n",
       "        text-align: right;\n",
       "    }\n",
       "</style>\n",
       "<table border=\"1\" class=\"dataframe\">\n",
       "  <thead>\n",
       "    <tr style=\"text-align: right;\">\n",
       "      <th></th>\n",
       "      <th>password</th>\n",
       "      <th>result</th>\n",
       "      <th>predict</th>\n",
       "      <th>leak</th>\n",
       "    </tr>\n",
       "  </thead>\n",
       "  <tbody>\n",
       "    <tr>\n",
       "      <th>0</th>\n",
       "      <td>gafit</td>\n",
       "      <td>0</td>\n",
       "      <td>0.041182</td>\n",
       "      <td>1</td>\n",
       "    </tr>\n",
       "    <tr>\n",
       "      <th>1</th>\n",
       "      <td>#DRAG</td>\n",
       "      <td>1</td>\n",
       "      <td>0.147149</td>\n",
       "      <td>0</td>\n",
       "    </tr>\n",
       "    <tr>\n",
       "      <th>2</th>\n",
       "      <td>ksal</td>\n",
       "      <td>0</td>\n",
       "      <td>0.039001</td>\n",
       "      <td>24</td>\n",
       "    </tr>\n",
       "    <tr>\n",
       "      <th>3</th>\n",
       "      <td>48002542HOT</td>\n",
       "      <td>1</td>\n",
       "      <td>0.999971</td>\n",
       "      <td>0</td>\n",
       "    </tr>\n",
       "    <tr>\n",
       "      <th>4</th>\n",
       "      <td>576290</td>\n",
       "      <td>0</td>\n",
       "      <td>0.009842</td>\n",
       "      <td>103</td>\n",
       "    </tr>\n",
       "  </tbody>\n",
       "</table>\n",
       "</div>"
      ],
      "text/plain": [
       "      password  result   predict  leak\n",
       "0        gafit       0  0.041182     1\n",
       "1        #DRAG       1  0.147149     0\n",
       "2         ksal       0  0.039001    24\n",
       "3  48002542HOT       1  0.999971     0\n",
       "4       576290       0  0.009842   103"
      ]
     },
     "execution_count": 6,
     "metadata": {},
     "output_type": "execute_result"
    }
   ],
   "source": [
    "predict.head()"
   ]
  },
  {
   "cell_type": "code",
   "execution_count": 7,
   "metadata": {},
   "outputs": [],
   "source": [
    "bins = [-1, 0.5, 1.1]\n",
    "\n",
    "predict_group = pd.cut(predict['predict'], bins, labels=[0, 1])\n",
    "predict['predictResult'] = predict_group"
   ]
  },
  {
   "cell_type": "code",
   "execution_count": 8,
   "metadata": {},
   "outputs": [
    {
     "data": {
      "text/html": [
       "<div>\n",
       "<style scoped>\n",
       "    .dataframe tbody tr th:only-of-type {\n",
       "        vertical-align: middle;\n",
       "    }\n",
       "\n",
       "    .dataframe tbody tr th {\n",
       "        vertical-align: top;\n",
       "    }\n",
       "\n",
       "    .dataframe thead th {\n",
       "        text-align: right;\n",
       "    }\n",
       "</style>\n",
       "<table border=\"1\" class=\"dataframe\">\n",
       "  <thead>\n",
       "    <tr style=\"text-align: right;\">\n",
       "      <th></th>\n",
       "      <th>password</th>\n",
       "      <th>result</th>\n",
       "      <th>predict</th>\n",
       "      <th>leak</th>\n",
       "      <th>predictResult</th>\n",
       "      <th>group</th>\n",
       "    </tr>\n",
       "  </thead>\n",
       "  <tbody>\n",
       "    <tr>\n",
       "      <th>0</th>\n",
       "      <td>gafit</td>\n",
       "      <td>0</td>\n",
       "      <td>0.041182</td>\n",
       "      <td>1</td>\n",
       "      <td>0</td>\n",
       "      <td>0</td>\n",
       "    </tr>\n",
       "    <tr>\n",
       "      <th>1</th>\n",
       "      <td>#DRAG</td>\n",
       "      <td>1</td>\n",
       "      <td>0.147149</td>\n",
       "      <td>0</td>\n",
       "      <td>0</td>\n",
       "      <td>3</td>\n",
       "    </tr>\n",
       "    <tr>\n",
       "      <th>2</th>\n",
       "      <td>ksal</td>\n",
       "      <td>0</td>\n",
       "      <td>0.039001</td>\n",
       "      <td>24</td>\n",
       "      <td>0</td>\n",
       "      <td>0</td>\n",
       "    </tr>\n",
       "    <tr>\n",
       "      <th>3</th>\n",
       "      <td>48002542HOT</td>\n",
       "      <td>1</td>\n",
       "      <td>0.999971</td>\n",
       "      <td>0</td>\n",
       "      <td>1</td>\n",
       "      <td>1</td>\n",
       "    </tr>\n",
       "    <tr>\n",
       "      <th>4</th>\n",
       "      <td>576290</td>\n",
       "      <td>0</td>\n",
       "      <td>0.009842</td>\n",
       "      <td>103</td>\n",
       "      <td>0</td>\n",
       "      <td>0</td>\n",
       "    </tr>\n",
       "  </tbody>\n",
       "</table>\n",
       "</div>"
      ],
      "text/plain": [
       "      password  result   predict  leak predictResult group\n",
       "0        gafit       0  0.041182     1             0     0\n",
       "1        #DRAG       1  0.147149     0             0     3\n",
       "2         ksal       0  0.039001    24             0     0\n",
       "3  48002542HOT       1  0.999971     0             1     1\n",
       "4       576290       0  0.009842   103             0     0"
      ]
     },
     "execution_count": 8,
     "metadata": {},
     "output_type": "execute_result"
    }
   ],
   "source": [
    "for i, row in predict.iterrows():\n",
    "    if (predict.at[i,'result'] == 0 and predict.at[i,'predictResult'] == 0):\n",
    "        predict.at[i, 'group'] = '0'\n",
    "    elif (predict.at[i,'result'] == 1 and predict.at[i,'predictResult'] == 1):\n",
    "        predict.at[i, 'group'] = '1'\n",
    "    elif (predict.at[i,'result'] == 0 and predict.at[i,'predictResult'] == 1):\n",
    "        predict.at[i, 'group'] = '2'\n",
    "    elif (predict.at[i,'result'] == 1 and predict.at[i,'predictResult'] == 0):\n",
    "        predict.at[i, 'group'] = '3'\n",
    "    \n",
    "    \n",
    "\n",
    "predict.head()"
   ]
  },
  {
   "cell_type": "code",
   "execution_count": 9,
   "metadata": {},
   "outputs": [
    {
     "data": {
      "text/html": [
       "<div>\n",
       "<style scoped>\n",
       "    .dataframe tbody tr th:only-of-type {\n",
       "        vertical-align: middle;\n",
       "    }\n",
       "\n",
       "    .dataframe tbody tr th {\n",
       "        vertical-align: top;\n",
       "    }\n",
       "\n",
       "    .dataframe thead th {\n",
       "        text-align: right;\n",
       "    }\n",
       "</style>\n",
       "<table border=\"1\" class=\"dataframe\">\n",
       "  <thead>\n",
       "    <tr style=\"text-align: right;\">\n",
       "      <th></th>\n",
       "      <th>password</th>\n",
       "      <th>result</th>\n",
       "      <th>predict</th>\n",
       "      <th>leak</th>\n",
       "      <th>predictResult</th>\n",
       "    </tr>\n",
       "    <tr>\n",
       "      <th>group</th>\n",
       "      <th></th>\n",
       "      <th></th>\n",
       "      <th></th>\n",
       "      <th></th>\n",
       "      <th></th>\n",
       "    </tr>\n",
       "  </thead>\n",
       "  <tbody>\n",
       "    <tr>\n",
       "      <th>0</th>\n",
       "      <td>4849</td>\n",
       "      <td>4849</td>\n",
       "      <td>4849</td>\n",
       "      <td>4849</td>\n",
       "      <td>4849</td>\n",
       "    </tr>\n",
       "    <tr>\n",
       "      <th>1</th>\n",
       "      <td>4703</td>\n",
       "      <td>4703</td>\n",
       "      <td>4703</td>\n",
       "      <td>4703</td>\n",
       "      <td>4703</td>\n",
       "    </tr>\n",
       "    <tr>\n",
       "      <th>2</th>\n",
       "      <td>151</td>\n",
       "      <td>151</td>\n",
       "      <td>151</td>\n",
       "      <td>151</td>\n",
       "      <td>151</td>\n",
       "    </tr>\n",
       "    <tr>\n",
       "      <th>3</th>\n",
       "      <td>297</td>\n",
       "      <td>297</td>\n",
       "      <td>297</td>\n",
       "      <td>297</td>\n",
       "      <td>297</td>\n",
       "    </tr>\n",
       "  </tbody>\n",
       "</table>\n",
       "</div>"
      ],
      "text/plain": [
       "       password  result  predict  leak  predictResult\n",
       "group                                                \n",
       "0          4849    4849     4849  4849           4849\n",
       "1          4703    4703     4703  4703           4703\n",
       "2           151     151      151   151            151\n",
       "3           297     297      297   297            297"
      ]
     },
     "execution_count": 9,
     "metadata": {},
     "output_type": "execute_result"
    }
   ],
   "source": [
    "predict.groupby('group').count()"
   ]
  },
  {
   "cell_type": "code",
   "execution_count": 10,
   "metadata": {},
   "outputs": [
    {
     "name": "stdout",
     "output_type": "stream",
     "text": [
      "4849\n",
      "4703\n",
      "151\n",
      "297\n"
     ]
    }
   ],
   "source": [
    "print(predict[(predict['group'] == '0')].count()['password'])# 유출된 비밀번호 유출로 판단\n",
    "print(predict[(predict['group'] == '1')].count()['password'])# 유출되지 않은 비밀번호 유출되지 않았다고 판단\n",
    "print(predict[(predict['group'] == '2')].count()['password'])# 유출된 비밀번호를 유출되지 않았다고 판단\n",
    "print(predict[(predict['group'] == '3')].count()['password'])# 유출되지 않은 비밀번호를 유출되었다고 판단"
   ]
  },
  {
   "cell_type": "code",
   "execution_count": 11,
   "metadata": {},
   "outputs": [
    {
     "data": {
      "image/png": "[encoded data removed]",
      "text/plain": [
       "<Figure size 432x288 with 1 Axes>"
      ]
     },
     "metadata": {
      "needs_background": "light"
     },
     "output_type": "display_data"
    }
   ],
   "source": [
    "topics = ['Weak', 'Strong']\n",
    "\n",
    "# value_a : 유출된 비밀번호\n",
    "# value_b : 유출되지 않은 비밀번호\n",
    "value_a = [predict[(predict['group'] == '0')].count()['password'], predict[(predict['group'] == '2')].count()['password']]\n",
    "value_b = [predict[(predict['group'] == '3')].count()['password'], predict[(predict['group'] == '1')].count()['password']]\n",
    "\n",
    "def create_x(t, w, n, d):\n",
    "    return [t*x + w*n for x in range(d)]\n",
    "\n",
    "value_a_x = create_x(2, 0.8, 1, 2)\n",
    "value_b_x = create_x(2, 0.8, 2, 2)\n",
    "\n",
    "ax = plt.subplot()\n",
    "\n",
    "ax.bar(value_a_x, value_a, hatch='//', label='leak password')\n",
    "ax.bar(value_b_x, value_b, hatch='\\\\\\\\', label='not leak password')\n",
    "\n",
    "plt.legend(loc=(1.01,0), fontsize=12)\n",
    "\n",
    "middle_x = [(a+b)/2 for (a,b) in zip(value_a_x, value_b_x)]\n",
    "\n",
    "ax.set_xticks(middle_x)\n",
    "ax.set_xticklabels(topics)\n",
    "\n",
    "# ax.set_xlabel()\n",
    "# ax.set_ylabel('Leak Count')\n",
    "\n",
    "plt.show()"
   ]
  },
  {
   "cell_type": "code",
   "execution_count": null,
   "metadata": {},
   "outputs": [],
   "source": []
  },
  {
   "cell_type": "code",
   "execution_count": null,
   "metadata": {},
   "outputs": [],
   "source": []
  },
  {
   "cell_type": "code",
   "execution_count": 12,
   "metadata": {},
   "outputs": [
    {
     "data": {
      "text/html": [
       "<div>\n",
       "<style scoped>\n",
       "    .dataframe tbody tr th:only-of-type {\n",
       "        vertical-align: middle;\n",
       "    }\n",
       "\n",
       "    .dataframe tbody tr th {\n",
       "        vertical-align: top;\n",
       "    }\n",
       "\n",
       "    .dataframe thead th {\n",
       "        text-align: right;\n",
       "    }\n",
       "</style>\n",
       "<table border=\"1\" class=\"dataframe\">\n",
       "  <thead>\n",
       "    <tr style=\"text-align: right;\">\n",
       "      <th></th>\n",
       "      <th>password</th>\n",
       "      <th>zxcvbn</th>\n",
       "      <th>luds</th>\n",
       "      <th>levenshtein</th>\n",
       "      <th>leak</th>\n",
       "    </tr>\n",
       "  </thead>\n",
       "  <tbody>\n",
       "    <tr>\n",
       "      <th>0</th>\n",
       "      <td>gafit</td>\n",
       "      <td>3</td>\n",
       "      <td>7</td>\n",
       "      <td>2</td>\n",
       "      <td>1</td>\n",
       "    </tr>\n",
       "    <tr>\n",
       "      <th>1</th>\n",
       "      <td>#DRAG</td>\n",
       "      <td>3</td>\n",
       "      <td>22</td>\n",
       "      <td>4</td>\n",
       "      <td>0</td>\n",
       "    </tr>\n",
       "    <tr>\n",
       "      <th>2</th>\n",
       "      <td>ksal</td>\n",
       "      <td>3</td>\n",
       "      <td>6</td>\n",
       "      <td>1</td>\n",
       "      <td>24</td>\n",
       "    </tr>\n",
       "    <tr>\n",
       "      <th>3</th>\n",
       "      <td>48002542HOT</td>\n",
       "      <td>7</td>\n",
       "      <td>87</td>\n",
       "      <td>11</td>\n",
       "      <td>0</td>\n",
       "    </tr>\n",
       "    <tr>\n",
       "      <th>4</th>\n",
       "      <td>576290</td>\n",
       "      <td>2</td>\n",
       "      <td>16</td>\n",
       "      <td>6</td>\n",
       "      <td>103</td>\n",
       "    </tr>\n",
       "  </tbody>\n",
       "</table>\n",
       "</div>"
      ],
      "text/plain": [
       "      password  zxcvbn  luds  levenshtein  leak\n",
       "0        gafit       3     7            2     1\n",
       "1        #DRAG       3    22            4     0\n",
       "2         ksal       3     6            1    24\n",
       "3  48002542HOT       7    87           11     0\n",
       "4       576290       2    16            6   103"
      ]
     },
     "execution_count": 12,
     "metadata": {},
     "output_type": "execute_result"
    }
   ],
   "source": [
    "validation.head()"
   ]
  },
  {
   "cell_type": "code",
   "execution_count": 13,
   "metadata": {},
   "outputs": [],
   "source": [
    "bins = [-1, 1, 3, 5, 7, 9]\n",
    "\n",
    "validation_group = pd.cut(validation['zxcvbn'], bins, labels=[0, 1, 2, 3, 4])\n",
    "validation['zxcvbnResult'] = validation_group"
   ]
  },
  {
   "cell_type": "code",
   "execution_count": 14,
   "metadata": {},
   "outputs": [],
   "source": [
    "bins = [-1, 20, 40, 60, 80, 999]\n",
    "\n",
    "validation_group = pd.cut(validation['luds'], bins, labels=[0, 1, 2, 3, 4])\n",
    "validation['ludsResult'] = validation_group"
   ]
  },
  {
   "cell_type": "code",
   "execution_count": 15,
   "metadata": {},
   "outputs": [],
   "source": [
    "bins = [-1, 2, 999]\n",
    "\n",
    "validation_group = pd.cut(validation['levenshtein'], bins, labels=[0, 1])\n",
    "validation['levenshteinResult'] = validation_group"
   ]
  },
  {
   "cell_type": "code",
   "execution_count": null,
   "metadata": {},
   "outputs": [],
   "source": []
  },
  {
   "cell_type": "code",
   "execution_count": 16,
   "metadata": {},
   "outputs": [],
   "source": [
    "for i, row in validation.iterrows():\n",
    "    if (validation.at[i,'zxcvbnResult'] == 0 and validation.at[i,'leak'] == 0):\n",
    "        validation.at[i, 'zxcvbnGroup'] = '0'# Very Weak, 유출되지 않음\n",
    "    elif (validation.at[i,'zxcvbnResult'] == 1 and validation.at[i,'leak'] == 0):\n",
    "        validation.at[i, 'zxcvbnGroup'] = '1'# Weak, 유출되지 않음\n",
    "    elif (validation.at[i,'zxcvbnResult'] == 2 and validation.at[i,'leak'] == 0):\n",
    "        validation.at[i, 'zxcvbnGroup'] = '2'# Average, 유출되지 않음\n",
    "    elif (validation.at[i,'zxcvbnResult'] == 3 and validation.at[i,'leak'] == 0):\n",
    "        validation.at[i, 'zxcvbnGroup'] = '3'# Strong, 유출되지 않음\n",
    "    elif (validation.at[i,'zxcvbnResult'] == 4 and validation.at[i,'leak'] == 0):\n",
    "        validation.at[i, 'zxcvbnGroup'] = '4'# Very Strong, 유출되지 않음\n",
    "    elif (validation.at[i,'zxcvbnResult'] == 0 and validation.at[i,'leak'] > 0):\n",
    "        validation.at[i, 'zxcvbnGroup'] = '5'# Very Weak, 유출됨\n",
    "    elif (validation.at[i,'zxcvbnResult'] == 1 and validation.at[i,'leak'] > 0):\n",
    "        validation.at[i, 'zxcvbnGroup'] = '6'# Weak, 유출됨\n",
    "    elif (validation.at[i,'zxcvbnResult'] == 2 and validation.at[i,'leak'] > 0):\n",
    "        validation.at[i, 'zxcvbnGroup'] = '7'# Average, 유출됨\n",
    "    elif (validation.at[i,'zxcvbnResult'] == 3 and validation.at[i,'leak'] > 0):\n",
    "        validation.at[i, 'zxcvbnGroup'] = '8'# Strong, 유출됨\n",
    "    elif (validation.at[i,'zxcvbnResult'] == 4 and validation.at[i,'leak'] > 0):\n",
    "        validation.at[i, 'zxcvbnGroup'] = '9'# Very Strong, 유출됨"
   ]
  },
  {
   "cell_type": "code",
   "execution_count": 17,
   "metadata": {},
   "outputs": [],
   "source": [
    "for i, row in validation.iterrows():\n",
    "    if (validation.at[i,'ludsResult'] == 0 and validation.at[i,'leak'] == 0):\n",
    "        validation.at[i, 'ludsGroup'] = '0'# Very Weak, 유출되지 않음\n",
    "    elif (validation.at[i,'ludsResult'] == 1 and validation.at[i,'leak'] == 0):\n",
    "        validation.at[i, 'ludsGroup'] = '1'# Weak,유출되지 않음\n",
    "    elif (validation.at[i,'ludsResult'] == 2 and validation.at[i,'leak'] == 0):\n",
    "        validation.at[i, 'ludsGroup'] = '2'# Average, 유출되지 않음\n",
    "    elif (validation.at[i,'ludsResult'] == 3 and validation.at[i,'leak'] == 0):\n",
    "        validation.at[i, 'ludsGroup'] = '3'# Strong, 유출되지 않음\n",
    "    elif (validation.at[i,'ludsResult'] == 4 and validation.at[i,'leak'] == 0):\n",
    "        validation.at[i, 'ludsGroup'] = '4'# Very Strong, 유출되지 않음\n",
    "    elif (validation.at[i,'ludsResult'] == 0 and validation.at[i,'leak'] > 0):\n",
    "        validation.at[i, 'ludsGroup'] = '5'# Very Weak, 유출됨\n",
    "    elif (validation.at[i,'ludsResult'] == 1 and validation.at[i,'leak'] > 0):\n",
    "        validation.at[i, 'ludsGroup'] = '6'# Weak, 유출됨\n",
    "    elif (validation.at[i,'ludsResult'] == 2 and validation.at[i,'leak'] > 0):\n",
    "        validation.at[i, 'ludsGroup'] = '7'# Average, 유출됨\n",
    "    elif (validation.at[i,'ludsResult'] == 3 and validation.at[i,'leak'] > 0):\n",
    "        validation.at[i, 'ludsGroup'] = '8'# Strong, 유출됨\n",
    "    elif (validation.at[i,'ludsResult'] == 4 and validation.at[i,'leak'] > 0):\n",
    "        validation.at[i, 'ludsGroup'] = '9'# Very Strong, 유출됨"
   ]
  },
  {
   "cell_type": "code",
   "execution_count": 18,
   "metadata": {},
   "outputs": [],
   "source": [
    "for i, row in validation.iterrows():\n",
    "    if (validation.at[i,'levenshteinResult'] == 0 and validation.at[i,'leak'] == 0):\n",
    "        validation.at[i, 'levenshteinGroup'] = '0'# Weak, 유출되지 않음\n",
    "    elif (validation.at[i,'levenshteinResult'] == 1 and validation.at[i,'leak'] == 0):\n",
    "        validation.at[i, 'levenshteinGroup'] = '1'# Strong, 유출되지 않음\n",
    "    elif (validation.at[i,'levenshteinResult'] == 0 and validation.at[i,'leak'] > 0):\n",
    "        validation.at[i, 'levenshteinGroup'] = '2'# Weak, 유출됨\n",
    "    elif (validation.at[i,'levenshteinResult'] == 1 and validation.at[i,'leak'] > 0):\n",
    "        validation.at[i, 'levenshteinGroup'] = '3'# Strong, 유출됨"
   ]
  },
  {
   "cell_type": "code",
   "execution_count": null,
   "metadata": {},
   "outputs": [],
   "source": []
  },
  {
   "cell_type": "code",
   "execution_count": 19,
   "metadata": {},
   "outputs": [
    {
     "name": "stdout",
     "output_type": "stream",
     "text": [
      "1\n",
      "712\n",
      "748\n",
      "791\n",
      "2748\n",
      "314\n",
      "4446\n",
      "239\n",
      "1\n",
      "0\n"
     ]
    }
   ],
   "source": [
    "print(validation[(validation['zxcvbnGroup'] == '0')].count()['password'])\n",
    "print(validation[(validation['zxcvbnGroup'] == '1')].count()['password'])\n",
    "print(validation[(validation['zxcvbnGroup'] == '2')].count()['password'])\n",
    "print(validation[(validation['zxcvbnGroup'] == '3')].count()['password'])\n",
    "print(validation[(validation['zxcvbnGroup'] == '4')].count()['password'])\n",
    "print(validation[(validation['zxcvbnGroup'] == '5')].count()['password'])\n",
    "print(validation[(validation['zxcvbnGroup'] == '6')].count()['password'])\n",
    "print(validation[(validation['zxcvbnGroup'] == '7')].count()['password'])\n",
    "print(validation[(validation['zxcvbnGroup'] == '8')].count()['password'])\n",
    "print(validation[(validation['zxcvbnGroup'] == '9')].count()['password'])"
   ]
  },
  {
   "cell_type": "code",
   "execution_count": 20,
   "metadata": {},
   "outputs": [
    {
     "name": "stdout",
     "output_type": "stream",
     "text": [
      "zxcvbn Weak Weak :  4760\n",
      "zxcvbn Weak Strong :  240\n",
      "zxcvbn Strong Strong :  4287\n",
      "zxcvbn Strong Weak :  713\n"
     ]
    }
   ],
   "source": [
    "print('zxcvbn Weak Weak : ', validation[(validation['zxcvbnGroup'] == '5')].count()['password'] + validation[(validation['zxcvbnGroup'] == '6')].count()['password'])\n",
    "print('zxcvbn Weak Strong : ', validation[(validation['zxcvbnGroup'] == '7')].count()['password'] + validation[(validation['zxcvbnGroup'] == '8')].count()['password'] + validation[(validation['zxcvbnGroup'] == '9')].count()['password'])\n",
    "print('zxcvbn Strong Strong : ', validation[(validation['zxcvbnGroup'] == '2')].count()['password'] + validation[(validation['zxcvbnGroup'] == '3')].count()['password'] + validation[(validation['zxcvbnGroup'] == '4')].count()['password'])\n",
    "print('zxcvbn Strong Weak : ', validation[(validation['zxcvbnGroup'] == '0')].count()['password'] + validation[(validation['zxcvbnGroup'] == '1')].count()['password'])"
   ]
  },
  {
   "cell_type": "code",
   "execution_count": 21,
   "metadata": {},
   "outputs": [
    {
     "name": "stdout",
     "output_type": "stream",
     "text": [
      "577\n",
      "548\n",
      "784\n",
      "641\n",
      "2450\n",
      "4575\n",
      "348\n",
      "63\n",
      "10\n",
      "4\n"
     ]
    }
   ],
   "source": [
    "print(validation[(validation['ludsGroup'] == '0')].count()['password'])\n",
    "print(validation[(validation['ludsGroup'] == '1')].count()['password'])\n",
    "print(validation[(validation['ludsGroup'] == '2')].count()['password'])\n",
    "print(validation[(validation['ludsGroup'] == '3')].count()['password'])\n",
    "print(validation[(validation['ludsGroup'] == '4')].count()['password'])\n",
    "print(validation[(validation['ludsGroup'] == '5')].count()['password'])\n",
    "print(validation[(validation['ludsGroup'] == '6')].count()['password'])\n",
    "print(validation[(validation['ludsGroup'] == '7')].count()['password'])\n",
    "print(validation[(validation['ludsGroup'] == '8')].count()['password'])\n",
    "print(validation[(validation['ludsGroup'] == '9')].count()['password'])"
   ]
  },
  {
   "cell_type": "code",
   "execution_count": 22,
   "metadata": {},
   "outputs": [
    {
     "name": "stdout",
     "output_type": "stream",
     "text": [
      "LUDS Weak Weak :  4923\n",
      "LUDS Weak Strong :  77\n",
      "LUDS Strong Strong :  3875\n",
      "LUDS Strong Weak :  1125\n"
     ]
    }
   ],
   "source": [
    "print('LUDS Weak Weak : ', validation[(validation['ludsGroup'] == '5')].count()['password'] + validation[(validation['ludsGroup'] == '6')].count()['password'])\n",
    "print('LUDS Weak Strong : ', validation[(validation['ludsGroup'] == '7')].count()['password'] + validation[(validation['ludsGroup'] == '8')].count()['password'] + validation[(validation['ludsGroup'] == '9')].count()['password'])\n",
    "print('LUDS Strong Strong : ', validation[(validation['ludsGroup'] == '2')].count()['password'] + validation[(validation['ludsGroup'] == '3')].count()['password'] + validation[(validation['ludsGroup'] == '4')].count()['password'])\n",
    "print('LUDS Strong Weak : ', validation[(validation['ludsGroup'] == '0')].count()['password'] + validation[(validation['ludsGroup'] == '1')].count()['password'])"
   ]
  },
  {
   "cell_type": "code",
   "execution_count": 23,
   "metadata": {},
   "outputs": [
    {
     "name": "stdout",
     "output_type": "stream",
     "text": [
      "48\n",
      "4952\n",
      "896\n",
      "4104\n"
     ]
    }
   ],
   "source": [
    "print(validation[(validation['levenshteinGroup'] == '0')].count()['password'])\n",
    "print(validation[(validation['levenshteinGroup'] == '1')].count()['password'])\n",
    "print(validation[(validation['levenshteinGroup'] == '2')].count()['password'])\n",
    "print(validation[(validation['levenshteinGroup'] == '3')].count()['password'])"
   ]
  },
  {
   "cell_type": "code",
   "execution_count": 24,
   "metadata": {},
   "outputs": [
    {
     "name": "stdout",
     "output_type": "stream",
     "text": [
      "Levenshtein Weak Weak :  896\n",
      "Levenshtein Weak Strong :  4104\n",
      "Levenshtein Strong Strong :  4952\n",
      "Levenshtein Strong Weak :  48\n"
     ]
    }
   ],
   "source": [
    "print('Levenshtein Weak Weak : ', validation[(validation['levenshteinGroup'] == '2')].count()['password'])\n",
    "print('Levenshtein Weak Strong : ', validation[(validation['levenshteinGroup'] == '3')].count()['password'])\n",
    "print('Levenshtein Strong Strong : ', validation[(validation['levenshteinGroup'] == '1')].count()['password'])\n",
    "print('Levenshtein Strong Weak : ', validation[(validation['levenshteinGroup'] == '0')].count()['password'])"
   ]
  },
  {
   "cell_type": "code",
   "execution_count": null,
   "metadata": {},
   "outputs": [],
   "source": []
  },
  {
   "cell_type": "code",
   "execution_count": 25,
   "metadata": {},
   "outputs": [
    {
     "data": {
      "image/png": "[encoded data removed]",
      "text/plain": [
       "<Figure size 432x288 with 1 Axes>"
      ]
     },
     "metadata": {
      "needs_background": "light"
     },
     "output_type": "display_data"
    }
   ],
   "source": [
    "topics = ['Very week', 'Weak', 'Average', 'Strong', 'Very strong']\n",
    "\n",
    "# value_a : 유출된 비밀번호\n",
    "# value_b : 유출되지 않은 비밀번호\n",
    "value_a = [validation[(validation['zxcvbnGroup'] == '5')].count()['password'], validation[(validation['zxcvbnGroup'] == '6')].count()['password'], validation[(validation['zxcvbnGroup'] == '7')].count()['password'], validation[(validation['zxcvbnGroup'] == '8')].count()['password'], validation[(validation['zxcvbnGroup'] == '9')].count()['password']]\n",
    "value_b = [validation[(validation['zxcvbnGroup'] == '0')].count()['password'], validation[(validation['zxcvbnGroup'] == '1')].count()['password'], validation[(validation['zxcvbnGroup'] == '2')].count()['password'], validation[(validation['zxcvbnGroup'] == '3')].count()['password'], validation[(validation['zxcvbnGroup'] == '4')].count()['password']]\n",
    "\n",
    "def create_x(t, w, n, d):\n",
    "    return [t*x + w*n for x in range(d)]\n",
    "\n",
    "value_a_x = create_x(2, 0.8, 1, 5)\n",
    "value_b_x = create_x(2, 0.8, 2, 5)\n",
    "\n",
    "ax = plt.subplot()\n",
    "\n",
    "ax.bar(value_a_x, value_a, hatch='//')\n",
    "ax.bar(value_b_x, value_b, hatch='\\\\\\\\')\n",
    "\n",
    "middle_x = [(a+b)/2 for (a,b) in zip(value_a_x, value_b_x)]\n",
    "\n",
    "ax.set_xticks(middle_x)\n",
    "ax.set_xticklabels(topics)\n",
    "\n",
    "plt.show()"
   ]
  },
  {
   "cell_type": "code",
   "execution_count": 26,
   "metadata": {},
   "outputs": [
    {
     "data": {
      "image/png": "[encoded data removed]",
      "text/plain": [
       "<Figure size 432x288 with 1 Axes>"
      ]
     },
     "metadata": {
      "needs_background": "light"
     },
     "output_type": "display_data"
    }
   ],
   "source": [
    "topics = ['Very week', 'Weak', 'Average', 'Strong', 'Very strong']\n",
    "\n",
    "# value_a : 유출된 비밀번호\n",
    "# value_b : 유출되지 않은 비밀번호\n",
    "value_a = [validation[(validation['ludsGroup'] == '5')].count()['password'], validation[(validation['ludsGroup'] == '6')].count()['password'], validation[(validation['ludsGroup'] == '7')].count()['password'], validation[(validation['ludsGroup'] == '8')].count()['password'], validation[(validation['ludsGroup'] == '9')].count()['password']]\n",
    "value_b = [validation[(validation['ludsGroup'] == '0')].count()['password'], validation[(validation['ludsGroup'] == '1')].count()['password'], validation[(validation['ludsGroup'] == '2')].count()['password'], validation[(validation['ludsGroup'] == '3')].count()['password'], validation[(validation['ludsGroup'] == '4')].count()['password']]\n",
    "\n",
    "def create_x(t, w, n, d):\n",
    "    return [t*x + w*n for x in range(d)]\n",
    "\n",
    "value_a_x = create_x(2, 0.8, 1, 5)\n",
    "value_b_x = create_x(2, 0.8, 2, 5)\n",
    "\n",
    "ax = plt.subplot()\n",
    "\n",
    "ax.bar(value_a_x, value_a, hatch='//')\n",
    "ax.bar(value_b_x, value_b, hatch='\\\\\\\\')\n",
    "\n",
    "middle_x = [(a+b)/2 for (a,b) in zip(value_a_x, value_b_x)]\n",
    "\n",
    "ax.set_xticks(middle_x)\n",
    "ax.set_xticklabels(topics)\n",
    "\n",
    "plt.show()"
   ]
  },
  {
   "cell_type": "code",
   "execution_count": 27,
   "metadata": {},
   "outputs": [
    {
     "data": {
      "image/png": "[encoded data removed]",
      "text/plain": [
       "<Figure size 432x288 with 1 Axes>"
      ]
     },
     "metadata": {
      "needs_background": "light"
     },
     "output_type": "display_data"
    }
   ],
   "source": [
    "topics = ['Weak', 'Strong']\n",
    "\n",
    "# value_a : 유출된 비밀번호\n",
    "# value_b : 유출되지 않은 비밀번호\n",
    "value_a = [validation[(validation['levenshteinGroup'] == '2')].count()['password'], validation[(validation['levenshteinGroup'] == '3')].count()['password']]\n",
    "value_b = [validation[(validation['levenshteinGroup'] == '0')].count()['password'], validation[(validation['levenshteinGroup'] == '1')].count()['password']]\n",
    "\n",
    "def create_x(t, w, n, d):\n",
    "    return [t*x + w*n for x in range(d)]\n",
    "\n",
    "value_a_x = create_x(2, 0.8, 1, 2)\n",
    "value_b_x = create_x(2, 0.8, 2, 2)\n",
    "\n",
    "ax = plt.subplot()\n",
    "\n",
    "ax.bar(value_a_x, value_a, hatch='//')\n",
    "ax.bar(value_b_x, value_b, hatch='\\\\\\\\')\n",
    "\n",
    "middle_x = [(a+b)/2 for (a,b) in zip(value_a_x, value_b_x)]\n",
    "\n",
    "ax.set_xticks(middle_x)\n",
    "ax.set_xticklabels(topics)\n",
    "\n",
    "plt.show()"
   ]
  },
  {
   "cell_type": "code",
   "execution_count": null,
   "metadata": {},
   "outputs": [],
   "source": []
  },
  {
   "cell_type": "code",
   "execution_count": null,
   "metadata": {},
   "outputs": [],
   "source": []
  },
  {
   "cell_type": "code",
   "execution_count": 28,
   "metadata": {
    "scrolled": false
   },
   "outputs": [
    {
     "data": {
      "text/html": [
       "<div>\n",
       "<style scoped>\n",
       "    .dataframe tbody tr th:only-of-type {\n",
       "        vertical-align: middle;\n",
       "    }\n",
       "\n",
       "    .dataframe tbody tr th {\n",
       "        vertical-align: top;\n",
       "    }\n",
       "\n",
       "    .dataframe thead th {\n",
       "        text-align: right;\n",
       "    }\n",
       "</style>\n",
       "<table border=\"1\" class=\"dataframe\">\n",
       "  <thead>\n",
       "    <tr style=\"text-align: right;\">\n",
       "      <th></th>\n",
       "      <th>password</th>\n",
       "      <th>leakCount</th>\n",
       "    </tr>\n",
       "  </thead>\n",
       "  <tbody>\n",
       "    <tr>\n",
       "      <th>0</th>\n",
       "      <td>gafiqt</td>\n",
       "      <td>0</td>\n",
       "    </tr>\n",
       "    <tr>\n",
       "      <th>1</th>\n",
       "      <td>gafit)</td>\n",
       "      <td>0</td>\n",
       "    </tr>\n",
       "    <tr>\n",
       "      <th>2</th>\n",
       "      <td>gamfit</td>\n",
       "      <td>0</td>\n",
       "    </tr>\n",
       "    <tr>\n",
       "      <th>3</th>\n",
       "      <td>g7afit</td>\n",
       "      <td>0</td>\n",
       "    </tr>\n",
       "    <tr>\n",
       "      <th>4</th>\n",
       "      <td>ga@fit</td>\n",
       "      <td>0</td>\n",
       "    </tr>\n",
       "  </tbody>\n",
       "</table>\n",
       "</div>"
      ],
      "text/plain": [
       "  password  leakCount\n",
       "0   gafiqt          0\n",
       "1   gafit)          0\n",
       "2   gamfit          0\n",
       "3   g7afit          0\n",
       "4   ga@fit          0"
      ]
     },
     "execution_count": 28,
     "metadata": {},
     "output_type": "execute_result"
    }
   ],
   "source": [
    "randomUpdate.head()"
   ]
  },
  {
   "cell_type": "code",
   "execution_count": 29,
   "metadata": {},
   "outputs": [
    {
     "data": {
      "text/html": [
       "<div>\n",
       "<style scoped>\n",
       "    .dataframe tbody tr th:only-of-type {\n",
       "        vertical-align: middle;\n",
       "    }\n",
       "\n",
       "    .dataframe tbody tr th {\n",
       "        vertical-align: top;\n",
       "    }\n",
       "\n",
       "    .dataframe thead th {\n",
       "        text-align: right;\n",
       "    }\n",
       "</style>\n",
       "<table border=\"1\" class=\"dataframe\">\n",
       "  <thead>\n",
       "    <tr style=\"text-align: right;\">\n",
       "      <th></th>\n",
       "      <th>password</th>\n",
       "      <th>leakCount</th>\n",
       "      <th>group</th>\n",
       "    </tr>\n",
       "  </thead>\n",
       "  <tbody>\n",
       "    <tr>\n",
       "      <th>0</th>\n",
       "      <td>gafiqt</td>\n",
       "      <td>0</td>\n",
       "      <td>0</td>\n",
       "    </tr>\n",
       "    <tr>\n",
       "      <th>1</th>\n",
       "      <td>gafit)</td>\n",
       "      <td>0</td>\n",
       "      <td>0</td>\n",
       "    </tr>\n",
       "    <tr>\n",
       "      <th>2</th>\n",
       "      <td>gamfit</td>\n",
       "      <td>0</td>\n",
       "      <td>0</td>\n",
       "    </tr>\n",
       "    <tr>\n",
       "      <th>3</th>\n",
       "      <td>g7afit</td>\n",
       "      <td>0</td>\n",
       "      <td>0</td>\n",
       "    </tr>\n",
       "    <tr>\n",
       "      <th>4</th>\n",
       "      <td>ga@fit</td>\n",
       "      <td>0</td>\n",
       "      <td>0</td>\n",
       "    </tr>\n",
       "  </tbody>\n",
       "</table>\n",
       "</div>"
      ],
      "text/plain": [
       "  password  leakCount group\n",
       "0   gafiqt          0     0\n",
       "1   gafit)          0     0\n",
       "2   gamfit          0     0\n",
       "3   g7afit          0     0\n",
       "4   ga@fit          0     0"
      ]
     },
     "execution_count": 29,
     "metadata": {},
     "output_type": "execute_result"
    }
   ],
   "source": [
    "for i, row in randomUpdate.iterrows():\n",
    "    if (randomUpdate.at[i,'leakCount'] == 0):\n",
    "        randomUpdate.at[i, 'group'] = '0'# 랜덤적으로 비밀번호 보완 후 유출되지 않은 비밀번호\n",
    "    elif (randomUpdate.at[i,'leakCount'] > 0):\n",
    "        randomUpdate.at[i, 'group'] = '1'# 랜덤적으로 비밀번호 보완 후 유출된 비밀번호\n",
    "\n",
    "randomUpdate.head()"
   ]
  },
  {
   "cell_type": "code",
   "execution_count": 30,
   "metadata": {},
   "outputs": [
    {
     "name": "stdout",
     "output_type": "stream",
     "text": [
      "Random Update Not Leak Password :  43503\n",
      "Random Update Leak Password :  7957\n"
     ]
    }
   ],
   "source": [
    "print('Random Update Not Leak Password : ', randomUpdate[(randomUpdate['group'] == '0')].count()['password'])\n",
    "print('Random Update Leak Password : ', randomUpdate[(randomUpdate['group'] == '1')].count()['password'])"
   ]
  },
  {
   "cell_type": "code",
   "execution_count": 31,
   "metadata": {},
   "outputs": [
    {
     "data": {
      "image/png": "[encoded data removed]",
      "text/plain": [
       "<Figure size 432x288 with 1 Axes>"
      ]
     },
     "metadata": {
      "needs_background": "light"
     },
     "output_type": "display_data"
    }
   ],
   "source": [
    "x = np.arange(2)\n",
    "years = ['Leak', 'Not Leak']\n",
    "values = [randomUpdate[(randomUpdate['group'] == '1')].count()['password'], randomUpdate[(randomUpdate['group'] == '0')].count()['password']]\n",
    "\n",
    "plt.bar(x, values, width=0.3)\n",
    "plt.xticks(x, years)\n",
    "plt.show()"
   ]
  },
  {
   "cell_type": "code",
   "execution_count": null,
   "metadata": {},
   "outputs": [],
   "source": []
  },
  {
   "cell_type": "code",
   "execution_count": 32,
   "metadata": {},
   "outputs": [
    {
     "data": {
      "text/html": [
       "<div>\n",
       "<style scoped>\n",
       "    .dataframe tbody tr th:only-of-type {\n",
       "        vertical-align: middle;\n",
       "    }\n",
       "\n",
       "    .dataframe tbody tr th {\n",
       "        vertical-align: top;\n",
       "    }\n",
       "\n",
       "    .dataframe thead th {\n",
       "        text-align: right;\n",
       "    }\n",
       "</style>\n",
       "<table border=\"1\" class=\"dataframe\">\n",
       "  <thead>\n",
       "    <tr style=\"text-align: right;\">\n",
       "      <th></th>\n",
       "      <th>password</th>\n",
       "      <th>leakCount</th>\n",
       "    </tr>\n",
       "  </thead>\n",
       "  <tbody>\n",
       "    <tr>\n",
       "      <th>0</th>\n",
       "      <td>gaf&amp;it</td>\n",
       "      <td>0</td>\n",
       "    </tr>\n",
       "    <tr>\n",
       "      <th>1</th>\n",
       "      <td>gaf4it</td>\n",
       "      <td>0</td>\n",
       "    </tr>\n",
       "    <tr>\n",
       "      <th>2</th>\n",
       "      <td>gafit5</td>\n",
       "      <td>2</td>\n",
       "    </tr>\n",
       "    <tr>\n",
       "      <th>3</th>\n",
       "      <td>g9afit</td>\n",
       "      <td>0</td>\n",
       "    </tr>\n",
       "    <tr>\n",
       "      <th>4</th>\n",
       "      <td>ga3fit</td>\n",
       "      <td>0</td>\n",
       "    </tr>\n",
       "  </tbody>\n",
       "</table>\n",
       "</div>"
      ],
      "text/plain": [
       "  password  leakCount\n",
       "0   gaf&it          0\n",
       "1   gaf4it          0\n",
       "2   gafit5          2\n",
       "3   g9afit          0\n",
       "4   ga3fit          0"
      ]
     },
     "execution_count": 32,
     "metadata": {},
     "output_type": "execute_result"
    }
   ],
   "source": [
    "feedbackUpdate.head()"
   ]
  },
  {
   "cell_type": "code",
   "execution_count": 33,
   "metadata": {},
   "outputs": [
    {
     "data": {
      "text/html": [
       "<div>\n",
       "<style scoped>\n",
       "    .dataframe tbody tr th:only-of-type {\n",
       "        vertical-align: middle;\n",
       "    }\n",
       "\n",
       "    .dataframe tbody tr th {\n",
       "        vertical-align: top;\n",
       "    }\n",
       "\n",
       "    .dataframe thead th {\n",
       "        text-align: right;\n",
       "    }\n",
       "</style>\n",
       "<table border=\"1\" class=\"dataframe\">\n",
       "  <thead>\n",
       "    <tr style=\"text-align: right;\">\n",
       "      <th></th>\n",
       "      <th>password</th>\n",
       "      <th>leakCount</th>\n",
       "      <th>group</th>\n",
       "    </tr>\n",
       "  </thead>\n",
       "  <tbody>\n",
       "    <tr>\n",
       "      <th>0</th>\n",
       "      <td>gaf&amp;it</td>\n",
       "      <td>0</td>\n",
       "      <td>0</td>\n",
       "    </tr>\n",
       "    <tr>\n",
       "      <th>1</th>\n",
       "      <td>gaf4it</td>\n",
       "      <td>0</td>\n",
       "      <td>0</td>\n",
       "    </tr>\n",
       "    <tr>\n",
       "      <th>2</th>\n",
       "      <td>gafit5</td>\n",
       "      <td>2</td>\n",
       "      <td>1</td>\n",
       "    </tr>\n",
       "    <tr>\n",
       "      <th>3</th>\n",
       "      <td>g9afit</td>\n",
       "      <td>0</td>\n",
       "      <td>0</td>\n",
       "    </tr>\n",
       "    <tr>\n",
       "      <th>4</th>\n",
       "      <td>ga3fit</td>\n",
       "      <td>0</td>\n",
       "      <td>0</td>\n",
       "    </tr>\n",
       "  </tbody>\n",
       "</table>\n",
       "</div>"
      ],
      "text/plain": [
       "  password  leakCount group\n",
       "0   gaf&it          0     0\n",
       "1   gaf4it          0     0\n",
       "2   gafit5          2     1\n",
       "3   g9afit          0     0\n",
       "4   ga3fit          0     0"
      ]
     },
     "execution_count": 33,
     "metadata": {},
     "output_type": "execute_result"
    }
   ],
   "source": [
    "for i, row in feedbackUpdate.iterrows():\n",
    "    if (feedbackUpdate.at[i,'leakCount'] == 0):\n",
    "        feedbackUpdate.at[i, 'group'] = '0'# 피드백대로 비밀번호 보완 후 유출되지 않은 비밀번호\n",
    "    elif (feedbackUpdate.at[i,'leakCount'] > 0):\n",
    "        feedbackUpdate.at[i, 'group'] = '1'# 피드백대로 비밀번호 보완 후 유출된 비밀번호\n",
    "\n",
    "feedbackUpdate.head()"
   ]
  },
  {
   "cell_type": "code",
   "execution_count": 34,
   "metadata": {},
   "outputs": [
    {
     "name": "stdout",
     "output_type": "stream",
     "text": [
      "Feedback Update Not Leak Password :  48815\n",
      "Feedback Update Not Leak Password :  2645\n"
     ]
    }
   ],
   "source": [
    "print('Feedback Update Not Leak Password : ', feedbackUpdate[(feedbackUpdate['group'] == '0')].count()['password'])\n",
    "print('Feedback Update Not Leak Password : ', feedbackUpdate[(feedbackUpdate['group'] == '1')].count()['password'])"
   ]
  },
  {
   "cell_type": "code",
   "execution_count": 35,
   "metadata": {},
   "outputs": [
    {
     "data": {
      "image/png": "[encoded data removed]",
      "text/plain": [
       "<Figure size 432x288 with 1 Axes>"
      ]
     },
     "metadata": {
      "needs_background": "light"
     },
     "output_type": "display_data"
    }
   ],
   "source": [
    "x = np.arange(2)\n",
    "years = ['Leak', 'Not Leak']\n",
    "values = [feedbackUpdate[(feedbackUpdate['group'] == '1')].count()['password'], feedbackUpdate[(feedbackUpdate['group'] == '0')].count()['password']]\n",
    "\n",
    "plt.bar(x, values, width=0.3)\n",
    "plt.xticks(x, years)\n",
    "plt.show()"
   ]
  },
  {
   "cell_type": "code",
   "execution_count": null,
   "metadata": {},
   "outputs": [],
   "source": []
  },
  {
   "cell_type": "code",
   "execution_count": 36,
   "metadata": {},
   "outputs": [
    {
     "data": {
      "image/png": "[encoded data removed]",
      "text/plain": [
       "<Figure size 432x288 with 1 Axes>"
      ]
     },
     "metadata": {
      "needs_background": "light"
     },
     "output_type": "display_data"
    }
   ],
   "source": [
    "topics = ['Leak', 'Not Leak']\n",
    "\n",
    "# value_a : 랜덤적으로 업데이트한 비밀번호\n",
    "# value_b : 피드백대로 업데이트한 비밀번호\n",
    "value_a = [randomUpdate[(randomUpdate['group'] == '1')].count()['password'], randomUpdate[(randomUpdate['group'] == '0')].count()['password']]\n",
    "value_b = [feedbackUpdate[(feedbackUpdate['group'] == '1')].count()['password'], feedbackUpdate[(feedbackUpdate['group'] == '0')].count()['password']]\n",
    "\n",
    "def create_x(t, w, n, d):\n",
    "    return [t*x + w*n for x in range(d)]\n",
    "\n",
    "value_a_x = create_x(2, 0.8, 1, 2)\n",
    "value_b_x = create_x(2, 0.8, 2, 2)\n",
    "\n",
    "ax = plt.subplot()\n",
    "\n",
    "ax.bar(value_a_x, value_a, hatch='//', label='random')\n",
    "ax.bar(value_b_x, value_b, hatch='\\\\\\\\', label='feedback')\n",
    "\n",
    "plt.legend(loc=(1.01,0), fontsize=12)\n",
    "\n",
    "middle_x = [(a+b)/2 for (a,b) in zip(value_a_x, value_b_x)]\n",
    "\n",
    "ax.set_xticks(middle_x)\n",
    "ax.set_xticklabels(topics)\n",
    "\n",
    "plt.show()"
   ]
  }
 ],
 "metadata": {
  "kernelspec": {
   "display_name": "Python 3",
   "language": "python",
   "name": "python3"
  },
  "language_info": {
   "codemirror_mode": {
    "name": "ipython",
    "version": 3
   },
   "file_extension": ".py",
   "mimetype": "text/x-python",
   "name": "python",
   "nbconvert_exporter": "python",
   "pygments_lexer": "ipython3",
   "version": "3.6.10"
  }
 },
 "nbformat": 4,
 "nbformat_minor": 4
}
